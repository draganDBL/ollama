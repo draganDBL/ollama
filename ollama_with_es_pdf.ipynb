{
 "cells": [
  {
   "cell_type": "code",
   "execution_count": 36,
   "id": "a0852e06-5ce8-4da2-8c6b-f18013dcbfeb",
   "metadata": {},
   "outputs": [
    {
     "name": "stdout",
     "output_type": "stream",
     "text": [
      "Requirement already satisfied: pip in /usr/local/python/3.10.13/lib/python3.10/site-packages (24.1.2)\n",
      "Collecting pip\n",
      "  Downloading pip-24.2-py3-none-any.whl.metadata (3.6 kB)\n",
      "Downloading pip-24.2-py3-none-any.whl (1.8 MB)\n",
      "\u001b[2K   \u001b[38;2;114;156;31m━━━━━━━━━━━━━━━━━━━━━━━━━━━━━━━━━━━━━━━━\u001b[0m \u001b[32m1.8/1.8 MB\u001b[0m \u001b[31m29.7 MB/s\u001b[0m eta \u001b[36m0:00:00\u001b[0m0m eta \u001b[36m0:00:01\u001b[0m\n",
      "\u001b[?25hInstalling collected packages: pip\n",
      "  Attempting uninstall: pip\n",
      "    Found existing installation: pip 24.1.2\n",
      "    Uninstalling pip-24.1.2:\n",
      "      Successfully uninstalled pip-24.1.2\n",
      "Successfully installed pip-24.2\n",
      "Note: you may need to restart the kernel to use updated packages.\n"
     ]
    }
   ],
   "source": [
    " pip install --upgrade pip"
   ]
  },
  {
   "cell_type": "code",
   "execution_count": 37,
   "id": "ff1186b0-0973-4648-b6f0-1ef80f346995",
   "metadata": {},
   "outputs": [
    {
     "name": "stdout",
     "output_type": "stream",
     "text": [
      "Requirement already satisfied: PyMuPDF in /usr/local/python/3.10.13/lib/python3.10/site-packages (1.24.9)\n",
      "Requirement already satisfied: PyMuPDFb==1.24.9 in /usr/local/python/3.10.13/lib/python3.10/site-packages (from PyMuPDF) (1.24.9)\n"
     ]
    }
   ],
   "source": [
    "!pip install PyMuPDF\n"
   ]
  },
  {
   "cell_type": "code",
   "execution_count": 1,
   "id": "930032b3-4034-41d4-952f-a23a5db957c2",
   "metadata": {},
   "outputs": [],
   "source": [
    "import io\n",
    "import fitz  # PyMuPDF\n",
    "import json"
   ]
  },
  {
   "cell_type": "code",
   "execution_count": 2,
   "id": "a42c74b4-7461-402d-bf6e-91f82bd4d410",
   "metadata": {},
   "outputs": [],
   "source": [
    "pdf_path='/workspaces/ollama/files/ring.pdf'"
   ]
  },
  {
   "cell_type": "code",
   "execution_count": 3,
   "id": "43c1c417-a9f0-4e15-98e7-5ef31538032d",
   "metadata": {},
   "outputs": [],
   "source": [
    "# Open the PDF file\n",
    "pdf_document = fitz.open(pdf_path)"
   ]
  },
  {
   "cell_type": "code",
   "execution_count": 4,
   "id": "b4948686-bd99-432f-8771-c8ada53ae2ac",
   "metadata": {},
   "outputs": [
    {
     "name": "stdout",
     "output_type": "stream",
     "text": [
      "Document('/workspaces/ollama/files/ring.pdf')\n"
     ]
    }
   ],
   "source": [
    "print(pdf_document)"
   ]
  },
  {
   "cell_type": "code",
   "execution_count": 5,
   "id": "53fe49ae-331f-45a5-8bf9-1c27ca495890",
   "metadata": {},
   "outputs": [],
   "source": [
    "text = []\n",
    "# Iterate through each page\n",
    "for page_num in range(pdf_document.page_count):\n",
    "    # Get the page\n",
    "    page = pdf_document.load_page(page_num)\n",
    "    \n",
    "    # Extract text from the page\n",
    "    text.append(page.get_text())\n",
    "   \n",
    "    # Print the text content of the page\n",
    "   # print(f\"Page {page_num + 1}:\\n{text}\\n\")\n"
   ]
  },
  {
   "cell_type": "code",
   "execution_count": 6,
   "id": "beafc83a-c8fd-45bc-a3b6-384688fc222a",
   "metadata": {},
   "outputs": [],
   "source": [
    "result = ''.join(text)\n",
    "#print(result)"
   ]
  },
  {
   "cell_type": "code",
   "execution_count": 7,
   "id": "860a6d39-a4e3-4a2b-acdb-19622a0f104b",
   "metadata": {},
   "outputs": [],
   "source": [
    "byte_data = result.encode('utf-8')"
   ]
  },
  {
   "cell_type": "code",
   "execution_count": 8,
   "id": "8d4f1b47-14bf-40a6-86ee-c10e3b99a43b",
   "metadata": {},
   "outputs": [],
   "source": [
    "# Example: Read PDF data from a file and store it in byte_data\n",
    "with open(pdf_path, 'rb') as file:\n",
    "    byte_data = file.read()  # Read the PDF data into bytes\n",
    "\n",
    "with io.BytesIO(byte_data) as f_in:\n",
    "    doc = fitz.open(\"pdf\", f_in.read())  # Open directly from bytes"
   ]
  },
  {
   "cell_type": "code",
   "execution_count": 9,
   "id": "0cd5f98d-3e7c-4c04-9636-b020020c3094",
   "metadata": {},
   "outputs": [
    {
     "name": "stdout",
     "output_type": "stream",
     "text": [
      "Detected Titles: [{'title': 'E-SCOOTER', 'description': 'E-SCOOTER\\nUSER MANUAL\\nORIGINAL INSTRUCTIONS\\n'}, {'title': 'USER MANUAL', 'description': 'E-SCOOTER\\nUSER MANUAL\\nORIGINAL INSTRUCTIONS\\n'}, {'title': 'Contents', 'description': 'Contents\\n1\\n2\\n3\\n4\\n5\\n6\\n7\\n8\\n9\\n10\\n11\\n12\\n13\\n14\\n15\\n16\\n17\\nSafety Instructions \\nPacking List \\nProduct Function Diagram\\nControl Panel/Dashboard\\nAssembling Your KickScooter\\nFirst Ride\\nCharging\\nLearning to Ride \\nSecurity Tips\\nFolding and Carrying\\nSpeciﬁcations\\nMaintenance\\nBefore Your Ride\\nSafety Alerts & Error Messages \\nTrademarks and Legal Notices\\nCertiﬁcations\\nContact\\n01\\n04\\n05\\n06\\n07\\n08\\n09\\n10\\n11\\n13\\n14\\n16\\n17\\n18\\n19\\n19\\n20\\n'}, {'title': '', 'description': 'Contents\\n1\\n2\\n3\\n4\\n5\\n6\\n7\\n8\\n9\\n10\\n11\\n12\\n13\\n14\\n15\\n16\\n17\\nSafety Instructions \\nPacking List \\nProduct Function Diagram\\nControl Panel/Dashboard\\nAssembling Your KickScooter\\nFirst Ride\\nCharging\\nLearning to Ride \\nSecurity Tips\\nFolding and Carrying\\nSpeciﬁcations\\nMaintenance\\nBefore Your Ride\\nSafety Alerts & Error Messages \\nTrademarks and Legal Notices\\nCertiﬁcations\\nContact\\n01\\n04\\n05\\n06\\n07\\n08\\n09\\n10\\n11\\n13\\n14\\n16\\n17\\n18\\n19\\n19\\n20\\n'}, {'title': '1. Safety Instructions', 'description': 'Electric scooter is a recreational device rather than a transporter. But once you ride it into a public community, it will also act as a transporter. Like \\nany riding products, an electric scooter can and is intended to move and it is therefore, of course, possible to get into dangerous situations.\\nPlease understand that you can reduce the risks by following all the instructions and warnings in this manual, but you cannot eliminate all the risks. \\nRemember that whenever you ride the scooter you risk injury or death from loss of control, collisions, and falls. The electric scooter is intended for \\nuse on ﬂat pavement or level ground without bumps and obstacles. Be alert and slow down when entering unfamiliar areas.\\nAlways wear a helmet when riding. Use an approved bicycle or scooter helmet that ﬁts properly with the chin strap in place, and provides protection \\nfor the back of your head. A long-sleeved shirt, long pants, and athletic shoes are recommended. Never ride in higheels sandals or barefooted. Long \\nhair or bangs that can aﬀect vision should be tied up to avoid accidents caused by hair blocking vision.\\nDo not attempt your ﬁrst ride in any area where you might encounter children, pedestrians, pets, vehicles, bicycles, or other obstacles and potential \\nhazards.\\nRespect the rights and property of others. Pass on the left whenever possible. When approaching a pedestrian from the front, stay to the right and \\nslow down. Be careful to avoid pedestrians, especially the old, children, the disabled, pregnant women. When approaching from behind, announce \\nyourself and slow down to walking speed when passing. Please obey local traﬃc laws and regulations if situation is diﬀerent.\\nIn places without laws comply with the safety guidelines outlined in this manual. INMOTION will not be responsible for any property damage, personal \\ninjury/death, accidents, or legal disputes caused by violations of the safety instructions.\\nDo not allow anyone to ride your scooter on his/her own unless they have carefully read this manual and followed the riding guide video. The safety \\nof new riders is your responsibility. Assist new riders until they are comfortable with the basic operation of the scooter. Make sure each new rider \\nwears a helmet and other protective gear.\\nBefore each ride check for loose fasteners and damaged components. If the scooter makes abnormal sounds or signals an alarm, immediately stop \\nriding. Diagnose your scooter via the INMOTION App and contact after-sales service at service@imscv.com.\\nBe alert! Scan both far ahead and in front of your scooter - your eyes are your best tool for safely avoiding obstacles and low traction surfaces\\n(including, but not limited to, wet ground, loose sand, loose gravel, and ice).\\n1. Safety Instructions\\n01\\n1.\\n2.\\n3.\\n4.\\n5.\\n6.\\n7.\\n8.\\n9.\\n10.\\n'}, {'title': '2. Packing List', 'description': 'Please carefully check whether the items in the packing box are complete and intact. If there is any part missing or damaged, please contact your point \\nof purchase or email to manufacturer.\\nPlease retain the box and packaging materials at least 15 days in case you need to ship your E-Scooter in the future.\\n1*Power cable\\n1*Power adapter\\nQuick Start Guide\\n1*Handlebars\\n1*M5 Wrench\\n1*M6 Wrench\\n1*Inner tube\\n2. Packing List\\n04\\nAssembled E-Scooter\\nUser Materials\\nAccessories\\nUser Manual\\n'}, {'title': '3. Product Function Diagram', 'description': '3. Product Function Diagram\\n05\\nDashboard\\nPower button\\nThrottle\\nBell\\nBrake lever\\nHeadlight\\nStem\\nFolding mechanism\\nFront fork\\nFront mudguard\\nFront wheel\\nHead unit clip\\nHandlebar\\nCharging port\\nHead unit mount\\nTaillight\\nPlate\\nBracket\\nRear wheel\\nRear reﬂector\\nFootrest \\nKickstand\\nFront reﬂector\\nAir valve\\n'}, {'title': '4. Control Panel/Dashboard', 'description': '4. Control Panel/Dashboard\\n06\\nFor drive mode\\nFor sports mode\\nSpeedometer\\nBattery level\\nSpeed unit\\nError indicator\\nPedestrian mode\\nCruise mode\\nLight icon\\nBluetooth icon\\nOn power-on state, click once to turn on/oﬀ the headlight \\nDouble click to switch the riding mode\\nPower button: Long press for more than 2s to power on/oﬀ  \\nThe max. speed is 25km/h, suitable for general riders \\nThe max. speed is 35km/h, suitable for skilled riders\\nShows the speed of the scooter in real time, the speed will be shown as two short lines when the vehicle is locked\\nThe battery level is indicated by 5 bars, the last bar ﬂashing indicates a low-battery level\\nThe light icon will be on after turning on the light, and it will go out after switch the light oﬀ\\nCruise mode is activated automatically when the same speed is maintained. Press the brake or the throttle to go \\nback to the manual mode\\nThe icon indicates that the scooter has detected an error. Refer to the error code table to ﬁnd solutions\\nPress and hold the button for 2 seconds to turn the electric scooter on/oﬀ.  When the scooter is on, press the \\nbutton to turn the headlight on/oﬀ, and press twice to switch modes\\nThe max. speed is 6km/h\\nFor drive mode\\nFor sports mode\\nSpeedometer\\nBattery level\\nLight icon\\nCruise mode\\nError\\nPedestrian mode\\nPower button\\nSteps to change the unit between the Imperial System and the Metric one: Hold the handlebar, short press the power \\nbutton for 3 times\\nSpeed unit\\nKm/h\\nmph\\n'}, {'title': '5. Assembling Your E-Scooter', 'description': \"To avoid personal injury, please follow the instructions shown in the diagram for assembly operation and inspection. \\nChildren are not allowed to involve in assembly operations. \\nNOTE: Use the M6 wrench to re-tight the folding part's nuts in case it's loosen after long time use.\\n(No need to tight it during assembling since it has been ﬁrmly installed)\\n5. Assembling Your E-Scooter\\n07\\nR\\nL\\n5\\n6\\n2. Unfold the stem and fasten the folding wrench. Make sure \\nthe unlocking key springs up normally after fastening. Be sure \\nto buckle up properly.\\n4. Install the handles on the stem and ﬁrmly tighten it \\naccording to the correct position and direction marked on \\nthe label.\\nM5 Wrench\\nM6 Wrench\\n4\\n3\\n1. Open the package, take out the inner tray and scooter.\\n3. Place the brake lever on the handlebar, tighten it ﬁrmly with \\nhex wrench to be sure it won't loosen.\\n\"}, {'title': '6. First Ride', 'description': 'There are safety risks when learning to ride the scooter. For your safety, your new scooter is not activated and will beep \\noccasionally after Power ON. Until activated, the scooter maintains a riding speed at 5km/h and is not allowed to switch \\nthe ride modes. Please download INMOTION App to activate your scooter to enjoy all features.\\n6. First Ride\\n08\\n \\n1. Download and install the App, \\nregister/login your account.\\nINMOTION APP\\n2. Power on the scooter, pair your scooter \\nwith the INMOTION App. The scooter will \\nbeep when the connection is successful.\\n3. Follow the App instructions to active \\nthe scooter and learn how to ride safely. \\nYou can now start to use your scooter.\\n'}, {'title': '7. Charging', 'description': '7. Charging\\nCharger indicator light: Red (charging)    \\n                                Green (charged) \\n1. Open the rubber cap.\\n2. Insert the battery \\ncharger plug.\\n3. Remove the battery \\ncharger and close \\nthe rubber cap when \\nCharging ﬁnished.\\nCharging port\\n3\\n09\\n•\\n•\\n•\\n•\\n•\\nDo not charge if the charge port or power cord is wet. \\nUse only with the original changer, do not use battery packs of other models or brands.\\nDo not charge or stop using the battery immediately if it is damaged or ﬂooded.\\nPlease close charge port cover tightly when not in use or after charging.\\nNever charge indoors.\\n'}, {'title': '8. Learning to Ride', 'description': 'Wear an approved helmet, elbow pads, \\nknee pads and other protective gear to \\nminimize any possible injury.\\n1. Check the power level indicator after \\npowering on. Charge the scooter if the \\nbattery level is low.\\n2. Stand on the footrest with one \\nfoot and push oﬀ with another foot \\nto start gliding.\\n3. Stand on the footrest with both feet, \\npress the throttle on the right hand.\\nNote: For your safety, the motor will not \\nengage until the scooter reaches 3 km/h.\\n4. Slow down by releasing the throttle and \\nhold the braking lever lightly (Do not brake \\nsuddenly and watch out for the road \\nconditions!).\\n5. When the car stops or slides \\nslowly, put down one foot and get \\noﬀ. \\nWhen hard braking, you risk serious injury due to loss of traction and falls. Maintain a moderate speed and look out for potential hazards.\\n8. Learning to Ride\\n10\\n'}, {'title': '9. Security Tips', 'description': 'Failure to follow these instructions could lead to serious injury.\\nDo not ride the scooter in \\nthe rain.\\nDo not ride at high speed \\nwhen you get over speed \\nbumps, thresholds etc., \\nplease ride at low speed on \\nrough roads. \\nDo not press the throttle \\nwhen walking with the \\nscooter.\\nAvoid contacting \\nobstacles and watch \\nout for the road \\nconditions. \\nWatch your head when \\npassing through doorways.\\nDo not step on the rear \\nfender.\\nDo not carry heavy objects \\non the handlebar.\\nDo not ride the scooter \\nwith only one foot or \\none hand.\\n9. Security Tips\\n11\\n'}, {'title': '10. Folding and Carrying', 'description': 'Power oﬀ the scooter, hold the stem, press the locking button \\nand pull the lever, bend the handlebar stem towards the footrest.\\nHold the stem and pull the folding ring, attach the hook to the \\nlocking clip on the side of the mudguard.\\nCarry the scooter by holding the handlebar stem. Watch out for bumps!\\n10. Folding and Carrying\\nFolding\\nCarrying\\nPress the locking button\\nPress down the folding ring\\nStem\\nWrench\\n1\\n3\\n2\\n13\\n'}, {'title': '11. Speciﬁcations', 'description': '11. Speciﬁcations\\nIndex\\nBasic specs\\nRider\\nMachine paramaters\\nItems\\nModel\\nUnfold dimensions (L x W x H)\\nFolded dimensions (L x W x H)\\nNet weight\\nMax. payload\\nRecommended age \\nMax. speed\\nOperating temperature\\nStorage temperature\\nIP rating\\nCharging time\\nC1 Pro\\n44.3″×17.5″×20.5″ (1125×445×1200mm)\\n44.3″×17.5″×47.2″ (1125×445×520mm)\\nApprox. 39.0lbs (17.7kg)\\n264.6lbs (120kg)\\n14-60\\n22mph (35km/h)\\nApprox. 30miles (48km)\\n-10℃ - +40℃\\n -20℃ - +50℃\\nIP55\\nApprox. 8.5h\\nValue\\nApprox. 20%\\nTypical range [1]\\nMax. slope\\n[2]\\n14\\n'}, {'title': '12. Maintenance', 'description': '12. Maintenance\\nCharging precautions\\n•\\n•\\n•\\n•\\n•\\n•\\n•\\n•\\n•\\n•\\n•\\nDo not charge the electric scooter in wet environment.\\nThe best ambient temperature for charging is 0-40°C.\\nKeep out of reach of children and animals, keep away from ﬂammable materials while charging.\\nDo not store the electric scooter in environments with a temperature ranging from -20 to 50°C. Do not put the battery pack into the ﬁre. Doing so may \\ncause ﬁre, heat generation, leakage or bursting.\\nAfter each use, fully recharge the battery to extend its useful life. Completely draining the battery may permanently damage the battery. \\nDo not charge or use the battery if it smells, overheats or leaks.\\nDo not open the battery pack or insert anything into the charging port as it contains hazardous substances.\\nPlease only use the original battery and adapter for your scooter. \\nAlways comply with local environmental protection laws about battery recycling.\\nCleaning\\nWipe the body of the electric scooter with a damp cloth. If stains persist, apply some toothpaste, brush with a toothbrush, then wipe with a damp cloth.\\nNote\\nWhen cleaning the electric scooter, make sure that it is turned oﬀ, that the charging cable is disconnected, and the rubber cap is closed, as a water leak \\nmay cause a damage to electronic components. \\nDo not clean the electric scooter with alcohol, petrol, kerosene or other corrosive and volatile chemical solvents, to avoid serious damage. Do not wash \\nthe electric scooter with jets of high pressure water.\\nStorage\\nWhen the electric scooter is not in use, store it in a cool, dry place. Do not store it outdoors for extended periods of time.\\nNote\\nExcessive sunlight, overheating, and excessive cold accelerate tire ageing and jeopardize the life of both the electric scooter and the battery.\\nWarnings\\nOnly use original batteries, as other models or brands may pose a safety risk.\\nPlease do not exceed\\xa0the speciﬁed\\xa0temperature\\xa0for battery storage or charging. (See speciﬁcations)\\n16\\n'}, {'title': '13. Before Your Ride', 'description': \"13. Before Your Ride\\n•\\n•\\n•\\n•\\n•\\n•\\n•\\n•\\nDo not touch the battery contacts. Do not dismantle or puncture the outer casing. Avoid contact between metal objects and battery terminals to prevent \\nshort circuits, physical harm or death.\\nDo not throw the battery into a ﬁre as this could damage it, cause overheating or even a ﬁre.\\nDo not charge or stop using the battery if it is damaged or ﬂooded.\\nDo not attempt to remove the battery as you may damage the scooter.\\nDo not attempt to disassemble the battery to prevent ﬁre hazards. Users\\xa0are now\\xa0not allowed to repair spare parts and components come with the \\nscooter.\\nDo not ride when the ambient temperature is higher than the operating temperature of scooter (see Speciﬁcations) because low/high temperature will \\nlimit the maximum power/torque. Doing so could cause personal injury or property damage due to slips or falls.\\nAfter each use, fully recharge the battery to\\xa0extend its service life. Completely draining the battery may permanently damage the battery. \\nImproper disposal of used batteries seriously pollutes the environment. Follow local regulations regarding battery disposal. Follow battery disposal \\nregulations to protect the environment.\\nTypically, a fully charged battery should retain power for 120-180 days. A low-power battery should retain power for 30–60 days. Remember to recharge \\nit every 60 days to protect it from any damage. Electronics inside the battery record the charge-discharge condition of the battery, damage caused by \\nover-charging or under-charging will not be covered by the limited warranty.\\nA well-maintained battery can perform well even after many miles of riding. When used at room temperature 22°C, the battery range and performance is \\nat its best; whereas using it at low temperatures can decrease range and performance. Battery range will recover when temperature rises.\\n1. Read the product instructions carefully and do not attempt to ride the scooter if you cannot follow the instructions completely.  \\n2. Please do not allow others to use your scooter without carefully reading this instruction or knowing how to use this product and safety precautions.  \\n3. All parts of the scooter must be properly installed in accordance with the instructions. Improper installation may result in the risk of loss of control, \\ncollision or fall. Before installation or maintenance, please power the scooter oﬀ, install the components with proper strength. Too loose or too tight \\ninstallation may cause damage or failure of the products.  \\n4. Please purchase insurance in time after purchasing the product to minimize the risk.  \\n5. Before each ride, please check all vehicle components are in place and securely fastened, the performance of wheels, the battery level, running \\ncondition, etc., to ensure any parts including the handlebar, stem, tires, brakes, screw are not loose or damaged, and the vehicle is in good condition for \\nriding. If\\xa0you've noticed anything\\xa0unusual, please stop using immediately and contact after-sales service for technical support.  \\n6. You are obligated to be aware of all laws, regulations and policies of scooter riding in your area and to strictly comply with the applicable laws, regula-\\ntions and policies.  \\n17\\n\"}, {'title': '14. Safety Alerts & Error Messages', 'description': 'When your scooter encounters any failure, the dashboard will display the relevant fault code as shown. If the following solutions still fail to solve the \\nproblem, please ask the after-sales service for help.\\n18\\nError \\ncode  \\nSolution\\nComponents\\nError \\nController error \\nController\\nMotor\\nBattery\\nBattery\\nBattery\\nBrake lever\\nThrottle\\nDashboard\\nController\\nController\\nMotor\\nHall error\\nBattery error \\nBattery low voltage\\nBattery high voltage\\nDashboard communica-\\ntion error \\nController communica-\\ntion error\\nMos overheating\\nMotor overheating\\nBrake self-test failure \\nThrottle power-on \\nself-test failure\\nController error, please restart the vehicle or contact after-sales service for replacement\\nMotor error, contact after-sales service for motor replacement \\nBattery error, contact after-sales service for battery replacement\\nThe throttle is unreleased. Release the brake handlebar or check the condition of the throttle\\nThe battery voltage is too high, please stop using and contact after-sales service for support\\nThe brake handlebar is unreleased. Release the brake handlebar or check condition of the throttle\\nPlease restart the vehicle or contact after-sales service for replacement\\nController board overheating, stop riding and wait for it to cool down\\nController board overheating, stop riding and wait for it to cool down\\nPlease restart the vehicle or contact after-sales service for replacement\\nThe battery voltage is low, please charge now\\n01\\n02\\n03\\n04\\n05\\n06\\n09\\n08\\n/\\n/\\n/\\n10\\n11\\n12\\n07\\n14. Safety Alerts & Error Messages \\n'}, {'title': '16. Certiﬁcations', 'description': '16. Certiﬁcations\\n15. Trademarks and Legal Notices\\nINMOTION\\xa0is a registered trademark of INMOTION TECHNOLOGIES CO., LTD; Android, Google Play are trademarks of Google Inc., App Store is a service \\nmark of Apple Inc., The respective owners reserve the rights of their trademarks referred to in this manual.\\nWe have attempted to include descriptions and instructions for all the functions of the scooter at the time of printing. However, due to constant improve-\\nment of product features and changes of design, your scooter may diﬀer slightly from the one shown in this document. The manufacturer reserves the \\nright to change the design and functionality of the scooter product and documentation without prior notice.\\nAll rights reserved by INMOTION TECHNOLOGIES CO., LTD.\\nManufacturer: INMOTION TECHNOLOGIES CO., LTD.\\nAddress: 18F, B1, Nanshan iPark, No.1001 Xueyuan Ave., Nanshan District, Shenzhen, China. 518055\\nFor model: C1 Pro\\nThis product is certiﬁed to ANSI/CAN/UL-2272 by UTL.\\nThe battery complies with UN/DOT 38.3.\\nFederal Communications Commission (FCC) Compliance Statement for USA\\nThis device complies with part 15 of the FCC rules. Operation is subject to the following two conditions: (1) This device may not cause harmful interfer-\\nence, and (2) this device must accept any interference received, including interference that may cause undesired operation.\\nNOTE\\nThis equipment has been tested and found to comply with the limits for a Class B digital device, pursuant to part 15 of the FCC Rules. These limits are \\ndesigned to provide reasonable protection against harmful interference in a residential installation. This equipment generates, uses and can radiate radio \\nfrequency energy and, if not installed and used in accordance with the instructions, may cause harmful interference to radio communications. However, \\nthere is no guarantee that interference will not occur in a particular installation. If this equipment does cause harmful interference to radio or television \\nreception, which can be determined by turning the equipment oﬀ and on, the user is encouraged to try to correct the interference by one or more of the \\nfollowing measures:\\n— Reorient or relocate the receiving antenna.\\n— Increase the separation between the equipment and receiver. \\n— Connect the equipment into an outlet on a circuit diﬀerent from that to which the receiver is connected. \\n— Consult the dealer or an experienced radio/TV technician for help.\\nThis equipment complies with FCC radiation exposure limits set forth for an uncontrolled environment. \\nFCC ID: 2ADUSC1PRO\\n19\\n'}, {'title': '15. Trademarks and Legal Notices', 'description': '16. Certiﬁcations\\n15. Trademarks and Legal Notices\\nINMOTION\\xa0is a registered trademark of INMOTION TECHNOLOGIES CO., LTD; Android, Google Play are trademarks of Google Inc., App Store is a service \\nmark of Apple Inc., The respective owners reserve the rights of their trademarks referred to in this manual.\\nWe have attempted to include descriptions and instructions for all the functions of the scooter at the time of printing. However, due to constant improve-\\nment of product features and changes of design, your scooter may diﬀer slightly from the one shown in this document. The manufacturer reserves the \\nright to change the design and functionality of the scooter product and documentation without prior notice.\\nAll rights reserved by INMOTION TECHNOLOGIES CO., LTD.\\nManufacturer: INMOTION TECHNOLOGIES CO., LTD.\\nAddress: 18F, B1, Nanshan iPark, No.1001 Xueyuan Ave., Nanshan District, Shenzhen, China. 518055\\nFor model: C1 Pro\\nThis product is certiﬁed to ANSI/CAN/UL-2272 by UTL.\\nThe battery complies with UN/DOT 38.3.\\nFederal Communications Commission (FCC) Compliance Statement for USA\\nThis device complies with part 15 of the FCC rules. Operation is subject to the following two conditions: (1) This device may not cause harmful interfer-\\nence, and (2) this device must accept any interference received, including interference that may cause undesired operation.\\nNOTE\\nThis equipment has been tested and found to comply with the limits for a Class B digital device, pursuant to part 15 of the FCC Rules. These limits are \\ndesigned to provide reasonable protection against harmful interference in a residential installation. This equipment generates, uses and can radiate radio \\nfrequency energy and, if not installed and used in accordance with the instructions, may cause harmful interference to radio communications. However, \\nthere is no guarantee that interference will not occur in a particular installation. If this equipment does cause harmful interference to radio or television \\nreception, which can be determined by turning the equipment oﬀ and on, the user is encouraged to try to correct the interference by one or more of the \\nfollowing measures:\\n— Reorient or relocate the receiving antenna.\\n— Increase the separation between the equipment and receiver. \\n— Connect the equipment into an outlet on a circuit diﬀerent from that to which the receiver is connected. \\n— Consult the dealer or an experienced radio/TV technician for help.\\nThis equipment complies with FCC radiation exposure limits set forth for an uncontrolled environment. \\nFCC ID: 2ADUSC1PRO\\n19\\n'}, {'title': '17. Contact', 'description': 'INMOTION TECHNOLOGIES CO., LTD. product, with included parts (cables, cords, and so on) meets the requirements of Directive 2011/65/EU on the \\nrestriction of the use of certain hazardous substances in electrical and electronic equipment (\"RoHS recast\" or \"RoHS 2\").\\nHereby, INMOTION TECHNOLOGIES CO., LTD. declares that the radio equipment type［C1 Pro］is in compliance with Directive 2006/42/EC. \\n17. Contact\\nContact us if you experience issues relating to riding, maintenance, and safety, or errors/faults with your E-Scooter.\\nINMOTION TECHNOLOGIES CO., LTD.\\nAddress: 18/F, B1, Nanshan iPark, No.1001 Xueyuan Ave., Nanshan, Shenzhen, China\\nTel: 4000100012 ext.8015 \\nE-mail Service: service@imscv.com\\nE-mail Amazon USA Service: AmazonService@imscv.com\\nWebsite: www.inmotionworld.com\\nINMOTION APP: Me → Online Service.\\nNOTE\\nWrite your E-Scooter serial number on hand when contacting INMOTION.\\nYou can ﬁnd your serial number next to the deck of the E-Scooter or in the App under “Vehicle Management\" → “About Vehicle\".\\nBluetooth\\nFrequency Band(S)\\nMax. RF Power\\n2.4000-2.4835GHz\\n100mW\\n20\\nRestriction of Hazardous Substances (RoHS) Directive\\nRadio Equipment Directive\\n'}]\n"
     ]
    }
   ],
   "source": [
    "def is_title(text, font_size, threshold_size=10):\n",
    "    return font_size >= threshold_size  # Adjust the threshold as needed\n",
    "\n",
    "def extract_titles_from_pdf(pdf_path):\n",
    "    document = fitz.open(pdf_path)\n",
    "    titles = []\n",
    "\n",
    "    for page in document:\n",
    "        text_blocks = page.get_text(\"dict\")[\"blocks\"]\n",
    "        for block in text_blocks:\n",
    "            if \"lines\" in block:  # Only consider text blocks\n",
    "                for line in block[\"lines\"]:\n",
    "                    for span in line[\"spans\"]:\n",
    "                        text = span[\"text\"].strip()\n",
    "                        font_size = span[\"size\"]\n",
    "                        if is_title(text, font_size):\n",
    "                            #titles.append({text:''.join(page.get_text())})\n",
    "                             titles.append({\"title\": text, \"description\": ''.join(page.get_text())})\n",
    "\n",
    "    document.close()\n",
    "    return titles\n",
    "\n",
    "pdf_path = pdf_path  # Replace with your PDF file path\n",
    "titles = extract_titles_from_pdf(pdf_path)\n",
    "print(\"Detected Titles:\", titles)"
   ]
  },
  {
   "cell_type": "code",
   "execution_count": 10,
   "id": "53adad1a-adfd-4f7b-9ec9-0b3b68fef481",
   "metadata": {},
   "outputs": [],
   "source": [
    "with open('ringmanual.json', 'wt') as f_out:\n",
    "    json.dump(titles, f_out, indent=2)"
   ]
  },
  {
   "cell_type": "code",
   "execution_count": 11,
   "id": "f093daaf-e9ec-4fd9-a88b-583fb9e1e804",
   "metadata": {},
   "outputs": [],
   "source": [
    "from openai import OpenAI"
   ]
  },
  {
   "cell_type": "code",
   "execution_count": 12,
   "id": "491993f7-9e3f-4f43-b198-a0b64dfb8a19",
   "metadata": {},
   "outputs": [],
   "source": [
    "from openai import OpenAI\n",
    "\n",
    "client = OpenAI(\n",
    "    base_url='http://localhost:11434/v1/',\n",
    "    api_key='ollama',\n",
    ")"
   ]
  },
  {
   "cell_type": "code",
   "execution_count": 13,
   "id": "57040e47-771b-468a-bb6c-d6def79304b4",
   "metadata": {},
   "outputs": [],
   "source": [
    "from elasticsearch import Elasticsearch"
   ]
  },
  {
   "cell_type": "code",
   "execution_count": 14,
   "id": "fc234ab5-ae4b-4f99-87a4-c3fdc40815b4",
   "metadata": {},
   "outputs": [],
   "source": [
    "es_client = Elasticsearch('http://localhost:9200') "
   ]
  },
  {
   "cell_type": "code",
   "execution_count": 15,
   "id": "5daa1294-1dc6-43f3-aec3-7c97d4c879f4",
   "metadata": {},
   "outputs": [
    {
     "data": {
      "text/plain": [
       "ObjectApiResponse({'name': 'a1b506278180', 'cluster_name': 'docker-cluster', 'cluster_uuid': 'Z_IPrBQ8R7a1tEpsWIT6VA', 'version': {'number': '8.4.3', 'build_flavor': 'default', 'build_type': 'docker', 'build_hash': '42f05b9372a9a4a470db3b52817899b99a76ee73', 'build_date': '2022-10-04T07:17:24.662462378Z', 'build_snapshot': False, 'lucene_version': '9.3.0', 'minimum_wire_compatibility_version': '7.17.0', 'minimum_index_compatibility_version': '7.0.0'}, 'tagline': 'You Know, for Search'})"
      ]
     },
     "execution_count": 15,
     "metadata": {},
     "output_type": "execute_result"
    }
   ],
   "source": [
    "es_client.info()"
   ]
  },
  {
   "cell_type": "code",
   "execution_count": 16,
   "id": "c5f7f5d8-5beb-47b4-83a5-6384bf89e212",
   "metadata": {},
   "outputs": [
    {
     "data": {
      "text/plain": [
       "ObjectApiResponse({'acknowledged': True, 'shards_acknowledged': True, 'index': 'usermanual-answerrr'})"
      ]
     },
     "execution_count": 16,
     "metadata": {},
     "output_type": "execute_result"
    }
   ],
   "source": [
    "index_settings = {\n",
    "    \"settings\": {\n",
    "        \"number_of_shards\": 1,\n",
    "        \"number_of_replicas\": 0\n",
    "    },\n",
    "    \"mappings\": {\n",
    "        \"properties\": {\n",
    "            \"description\": {\"type\": \"text\"},\n",
    "            \"title\": {\"type\": \"keyword\"} \n",
    "        }\n",
    "    }\n",
    "}\n",
    "\n",
    "index_name = \"usermanual-answerrr\" #database name maybe ?\n",
    "\n",
    "es_client.indices.create(index=index_name, body=index_settings)"
   ]
  },
  {
   "cell_type": "code",
   "execution_count": 17,
   "id": "ee37d744-35b2-4f53-ad68-ebc57ca363b4",
   "metadata": {},
   "outputs": [],
   "source": [
    "from tqdm.auto import tqdm"
   ]
  },
  {
   "cell_type": "code",
   "execution_count": 18,
   "id": "008fda7c-3d2b-48dd-84e0-e1bf0f889b09",
   "metadata": {},
   "outputs": [
    {
     "data": {
      "application/vnd.jupyter.widget-view+json": {
       "model_id": "a1ff9d13d4ac44fa992777ead3d3a79c",
       "version_major": 2,
       "version_minor": 0
      },
      "text/plain": [
       "  0%|          | 0/21 [00:00<?, ?it/s]"
      ]
     },
     "metadata": {},
     "output_type": "display_data"
    }
   ],
   "source": [
    "\n",
    "for title in tqdm(titles):\n",
    "    es_client.index(index=index_name,document=title) # final init of elastiserach"
   ]
  },
  {
   "cell_type": "code",
   "execution_count": 28,
   "id": "a1bde85d-1032-4a96-8716-bf40e8e14080",
   "metadata": {},
   "outputs": [],
   "source": [
    "query = 'Do I need to wear helmet while driving scooter  and can you tell me can I get hurt if I dont wear helmet?'\n",
    "#query = 'Do I need to wear helmet while driving scooter ?'"
   ]
  },
  {
   "cell_type": "code",
   "execution_count": 29,
   "id": "7b395616-f5a9-4005-9144-ac1ae2863529",
   "metadata": {},
   "outputs": [],
   "source": [
    "def elastic_search(query):\n",
    "    serach_query = {\n",
    "        \"size\": 5,\n",
    "        \"query\": {\n",
    "            \"bool\": {\n",
    "                \"must\": {\n",
    "                    \"multi_match\": {\n",
    "                        \"query\": query,\n",
    "                        \"fields\": [\"description^3\"],\n",
    "                        \"type\": \"best_fields\"\n",
    "                    }\n",
    "                }\n",
    "               \n",
    "            }\n",
    "        }\n",
    "    }\n",
    "    response = es_client.search(index=index_name,body=serach_query)\n",
    "    \n",
    "    response['hits']['hits']\n",
    "    \n",
    "    result_doc = []\n",
    "    \n",
    "    for hit in response['hits']['hits']:  \n",
    "        result_doc.append(hit['_source'])\n",
    "    return result_doc"
   ]
  },
  {
   "cell_type": "code",
   "execution_count": 30,
   "id": "ccf8d0c1-751f-48ea-b2b9-d341e7a1a537",
   "metadata": {},
   "outputs": [
    {
     "data": {
      "text/plain": [
       "[{'title': '1. Safety Instructions',\n",
       "  'description': 'Electric scooter is a recreational device rather than a transporter. But once you ride it into a public community, it will also act as a transporter. Like \\nany riding products, an electric scooter can and is intended to move and it is therefore, of course, possible to get into dangerous situations.\\nPlease understand that you can reduce the risks by following all the instructions and warnings in this manual, but you cannot eliminate all the risks. \\nRemember that whenever you ride the scooter you risk injury or death from loss of control, collisions, and falls. The electric scooter is intended for \\nuse on ﬂat pavement or level ground without bumps and obstacles. Be alert and slow down when entering unfamiliar areas.\\nAlways wear a helmet when riding. Use an approved bicycle or scooter helmet that ﬁts properly with the chin strap in place, and provides protection \\nfor the back of your head. A long-sleeved shirt, long pants, and athletic shoes are recommended. Never ride in higheels sandals or barefooted. Long \\nhair or bangs that can aﬀect vision should be tied up to avoid accidents caused by hair blocking vision.\\nDo not attempt your ﬁrst ride in any area where you might encounter children, pedestrians, pets, vehicles, bicycles, or other obstacles and potential \\nhazards.\\nRespect the rights and property of others. Pass on the left whenever possible. When approaching a pedestrian from the front, stay to the right and \\nslow down. Be careful to avoid pedestrians, especially the old, children, the disabled, pregnant women. When approaching from behind, announce \\nyourself and slow down to walking speed when passing. Please obey local traﬃc laws and regulations if situation is diﬀerent.\\nIn places without laws comply with the safety guidelines outlined in this manual. INMOTION will not be responsible for any property damage, personal \\ninjury/death, accidents, or legal disputes caused by violations of the safety instructions.\\nDo not allow anyone to ride your scooter on his/her own unless they have carefully read this manual and followed the riding guide video. The safety \\nof new riders is your responsibility. Assist new riders until they are comfortable with the basic operation of the scooter. Make sure each new rider \\nwears a helmet and other protective gear.\\nBefore each ride check for loose fasteners and damaged components. If the scooter makes abnormal sounds or signals an alarm, immediately stop \\nriding. Diagnose your scooter via the INMOTION App and contact after-sales service at service@imscv.com.\\nBe alert! Scan both far ahead and in front of your scooter - your eyes are your best tool for safely avoiding obstacles and low traction surfaces\\n(including, but not limited to, wet ground, loose sand, loose gravel, and ice).\\n1. Safety Instructions\\n01\\n1.\\n2.\\n3.\\n4.\\n5.\\n6.\\n7.\\n8.\\n9.\\n10.\\n'},\n",
       " {'title': '8. Learning to Ride',\n",
       "  'description': 'Wear an approved helmet, elbow pads, \\nknee pads and other protective gear to \\nminimize any possible injury.\\n1. Check the power level indicator after \\npowering on. Charge the scooter if the \\nbattery level is low.\\n2. Stand on the footrest with one \\nfoot and push oﬀ with another foot \\nto start gliding.\\n3. Stand on the footrest with both feet, \\npress the throttle on the right hand.\\nNote: For your safety, the motor will not \\nengage until the scooter reaches 3 km/h.\\n4. Slow down by releasing the throttle and \\nhold the braking lever lightly (Do not brake \\nsuddenly and watch out for the road \\nconditions!).\\n5. When the car stops or slides \\nslowly, put down one foot and get \\noﬀ. \\nWhen hard braking, you risk serious injury due to loss of traction and falls. Maintain a moderate speed and look out for potential hazards.\\n8. Learning to Ride\\n10\\n'},\n",
       " {'title': '17. Contact',\n",
       "  'description': 'INMOTION TECHNOLOGIES CO., LTD. product, with included parts (cables, cords, and so on) meets the requirements of Directive 2011/65/EU on the \\nrestriction of the use of certain hazardous substances in electrical and electronic equipment (\"RoHS recast\" or \"RoHS 2\").\\nHereby, INMOTION TECHNOLOGIES CO., LTD. declares that the radio equipment type［C1 Pro］is in compliance with Directive 2006/42/EC. \\n17. Contact\\nContact us if you experience issues relating to riding, maintenance, and safety, or errors/faults with your E-Scooter.\\nINMOTION TECHNOLOGIES CO., LTD.\\nAddress: 18/F, B1, Nanshan iPark, No.1001 Xueyuan Ave., Nanshan, Shenzhen, China\\nTel: 4000100012 ext.8015 \\nE-mail Service: service@imscv.com\\nE-mail Amazon USA Service: AmazonService@imscv.com\\nWebsite: www.inmotionworld.com\\nINMOTION APP: Me → Online Service.\\nNOTE\\nWrite your E-Scooter serial number on hand when contacting INMOTION.\\nYou can ﬁnd your serial number next to the deck of the E-Scooter or in the App under “Vehicle Management\" → “About Vehicle\".\\nBluetooth\\nFrequency Band(S)\\nMax. RF Power\\n2.4000-2.4835GHz\\n100mW\\n20\\nRestriction of Hazardous Substances (RoHS) Directive\\nRadio Equipment Directive\\n'},\n",
       " {'title': '13. Before Your Ride',\n",
       "  'description': \"13. Before Your Ride\\n•\\n•\\n•\\n•\\n•\\n•\\n•\\n•\\nDo not touch the battery contacts. Do not dismantle or puncture the outer casing. Avoid contact between metal objects and battery terminals to prevent \\nshort circuits, physical harm or death.\\nDo not throw the battery into a ﬁre as this could damage it, cause overheating or even a ﬁre.\\nDo not charge or stop using the battery if it is damaged or ﬂooded.\\nDo not attempt to remove the battery as you may damage the scooter.\\nDo not attempt to disassemble the battery to prevent ﬁre hazards. Users\\xa0are now\\xa0not allowed to repair spare parts and components come with the \\nscooter.\\nDo not ride when the ambient temperature is higher than the operating temperature of scooter (see Speciﬁcations) because low/high temperature will \\nlimit the maximum power/torque. Doing so could cause personal injury or property damage due to slips or falls.\\nAfter each use, fully recharge the battery to\\xa0extend its service life. Completely draining the battery may permanently damage the battery. \\nImproper disposal of used batteries seriously pollutes the environment. Follow local regulations regarding battery disposal. Follow battery disposal \\nregulations to protect the environment.\\nTypically, a fully charged battery should retain power for 120-180 days. A low-power battery should retain power for 30–60 days. Remember to recharge \\nit every 60 days to protect it from any damage. Electronics inside the battery record the charge-discharge condition of the battery, damage caused by \\nover-charging or under-charging will not be covered by the limited warranty.\\nA well-maintained battery can perform well even after many miles of riding. When used at room temperature 22°C, the battery range and performance is \\nat its best; whereas using it at low temperatures can decrease range and performance. Battery range will recover when temperature rises.\\n1. Read the product instructions carefully and do not attempt to ride the scooter if you cannot follow the instructions completely.  \\n2. Please do not allow others to use your scooter without carefully reading this instruction or knowing how to use this product and safety precautions.  \\n3. All parts of the scooter must be properly installed in accordance with the instructions. Improper installation may result in the risk of loss of control, \\ncollision or fall. Before installation or maintenance, please power the scooter oﬀ, install the components with proper strength. Too loose or too tight \\ninstallation may cause damage or failure of the products.  \\n4. Please purchase insurance in time after purchasing the product to minimize the risk.  \\n5. Before each ride, please check all vehicle components are in place and securely fastened, the performance of wheels, the battery level, running \\ncondition, etc., to ensure any parts including the handlebar, stem, tires, brakes, screw are not loose or damaged, and the vehicle is in good condition for \\nriding. If\\xa0you've noticed anything\\xa0unusual, please stop using immediately and contact after-sales service for technical support.  \\n6. You are obligated to be aware of all laws, regulations and policies of scooter riding in your area and to strictly comply with the applicable laws, regula-\\ntions and policies.  \\n17\\n\"},\n",
       " {'title': '9. Security Tips',\n",
       "  'description': 'Failure to follow these instructions could lead to serious injury.\\nDo not ride the scooter in \\nthe rain.\\nDo not ride at high speed \\nwhen you get over speed \\nbumps, thresholds etc., \\nplease ride at low speed on \\nrough roads. \\nDo not press the throttle \\nwhen walking with the \\nscooter.\\nAvoid contacting \\nobstacles and watch \\nout for the road \\nconditions. \\nWatch your head when \\npassing through doorways.\\nDo not step on the rear \\nfender.\\nDo not carry heavy objects \\non the handlebar.\\nDo not ride the scooter \\nwith only one foot or \\none hand.\\n9. Security Tips\\n11\\n'}]"
      ]
     },
     "execution_count": 30,
     "metadata": {},
     "output_type": "execute_result"
    }
   ],
   "source": [
    "elastic_search(query)"
   ]
  },
  {
   "cell_type": "code",
   "execution_count": 31,
   "id": "b20f76f8-e7db-4160-bb55-dc1de644c980",
   "metadata": {},
   "outputs": [],
   "source": [
    "def build_prompt(query,search_results):\n",
    "    prompt_template =\"\"\" \n",
    "You are user manuel interpreter. Answer the QUESTION base on the CONTEXT from the FAQ database.\n",
    "Use only the facts from the CONTEXT when answering the QUESTION.If CONTEXT doesn't contain  the answer output NONE\n",
    "\n",
    "\n",
    "QUESTION: {question}\n",
    "\n",
    "CONTEXT: {context}\n",
    "\"\"\".strip()\n",
    "\n",
    "    context  = \"\"\n",
    "    for doc in search_results:\n",
    "        context = context + f\"title: {doc['title']}\\ndescirption: {doc['description']}\\n\\n\"\n",
    "    \n",
    "    prompt = prompt_template.format(question=query,context= context).strip()\n",
    "    return prompt\n",
    "\n",
    "def llm(prompt):\n",
    "    response = client.chat.completions.create(\n",
    "        model='gemma2:2b',\n",
    "        #model='phi3',\n",
    "        messages=[{\"role\": \"user\", \"content\": prompt}]\n",
    "    )\n",
    "    \n",
    "    return response.choices[0].message.content"
   ]
  },
  {
   "cell_type": "code",
   "execution_count": 32,
   "id": "44b47e36-bfe8-43d0-8569-a3d38f73110d",
   "metadata": {},
   "outputs": [],
   "source": [
    "def rag(query):\n",
    "    search_results = elastic_search(query)\n",
    "    prompt = build_prompt(query, search_results)\n",
    "    answer = llm(prompt)\n",
    "    return answer"
   ]
  },
  {
   "cell_type": "code",
   "execution_count": 34,
   "id": "29f445cd-fe67-4cb5-9c04-0b16da582579",
   "metadata": {},
   "outputs": [
    {
     "name": "stdout",
     "output_type": "stream",
     "text": [
      "Okay, I understand. You're asking me to combine safety information (from a manual) with product and service details to form a comprehensive guide for customers using INMOTION scooters. Let's break it down into sections and incorporate best practices:\n",
      "\n",
      "**Part 1: Getting Started** -  Focusing on the scooter itself\n",
      "\n",
      "* **Title:** \"Get Ready to Ride!\"\n",
      "* **Description:** A brief overview of the key safety topics that will be covered in this manual. \n",
      "    *\"To ensure a safe and enjoyable ride, please read all instructions carefully before using your INMOTION e-Scooter.\"\n",
      "\n",
      "**Part 2: Battery Care & Handling** - How to get the most out of your battery safely.\n",
      "* **Title:** \"Power Up & Ride Out!\n",
      "* **Description:** This section will delve into key points about handling and caring for the battery on a practical level. \n",
      "\n",
      "    * **1. Do not touch battery contacts: **  Explain why this is crucial for safety.   \n",
      "        * How to do it safely:  Point out the need for gloves or appropriate electrical protection if needed.\n",
      "        * Consequences of improper handling (e.g., short circuits)\n",
      "    * **2. Proper Charging:** Explain how long it takes and proper charging practices:  Is there a full charge indicator?  \n",
      "         * How often to check your battery's condition? \n",
      "\n",
      "**Part 3: Safety Guidelines: Riding Responsibly** - A guide on using the scooter safely\n",
      "* **Title: \"Ride Smart\"**\n",
      "    **Description:** This section will cover riding practices based on these points.\n",
      "        *  **Important Reminders and Warnings:**\n",
      "            * *Never leave your e-Scooter unattended while charging.* Explain why this is important (preventing mishaps or theft)\n",
      "           * **Do not exceed the speed limit: **  Provide a specific example of common speed limits\n",
      "* **Temperature Considerations & Storage** \n",
      "    * **\"Warm Up, Cool Down\":**\n",
      "        * *Understanding Range:* Briefly mention how temperature directly influences range and performance.\n",
      "        * *Don't push beyond limits:* Explain that while the scooter can handle warmer or colder temperatures they will impact speed/range. (e.g., \"The best operating range is around 20°C to 30°C, please refer to specifications for more detail.\")\n",
      "        * **Storage:**   Explain what happens to battery life if left charged too often and when to charge again to extend battery lifespan.  \n",
      "    \n",
      "**Part 4: Maintenance & Security  ** - Keeping your scooter in tip-top shape\n",
      "\n",
      "    * **Title:**  \"Protect Your Ride!\"\n",
      "    *  **Description:** This section highlights general maintenance procedures, as well as basic security advice. \n",
      "\n",
      "\n",
      "     *   **Maintenance**\n",
      "           * **Clean the deck and undercarriage regularly for optimal performance.** \n",
      "           * *Inspect tires and brakes regularly.* How to check for wear and tear or potential issue points. (Examples)  \n",
      "        *   **Battery Maintenance:** \n",
      "\n",
      "\n",
      "    * **Security Tips**\n",
      "\n",
      "        *  **Stay Safe & Alert:** Explain ways to avoid collisions and keep the scooter safe when parked. (e.g., secure it, park on flat surface\n",
      "        * *Avoid risky situations:* Give examples of places not ideal for riding (e.g. steep inclines, poorly lit trails).  \n",
      "    * **Other Safety Considerations** \n",
      "\n",
      "\n",
      "       * **Be Prepared: Emergency and Technical Support.** \n",
      "\n",
      "\n",
      "**Part 5: Service & Warranty** - Getting Help if You Need It \n",
      "\n",
      "    *   **Title:** \"Your INMOTION Scooter is Covered!\"  \n",
      "        * **Description:** This section focuses on where to get help with troubleshooting, repairs, or concerns. Include specific service links and contact information for these services and how to get the best support possible:\n",
      "\n",
      "      \n",
      "**Essential Notes:**\n",
      "\n",
      "* **Visual Aids:** Use clear photos of battery connections, scooter settings, safety precautions (including illustrations), and parts/components throughout. \n",
      "   * Consider adding step-by-step photos and diagrams to guide the user through each section.    \n",
      "* **Legal Disclaimer:** Include a concise legal statement at the beginning or middle that acknowledges local scooter regulations and that using the electric scooter outside the defined area may result in damage or injury.  \n",
      "\n",
      "Remember, safety is paramount when it comes to e-scooters. Make sure your users know they are responsible for their own use of the scooters and follow all provided instructions carefully.\n",
      "\n"
     ]
    }
   ],
   "source": [
    "print(rag(query))"
   ]
  },
  {
   "cell_type": "code",
   "execution_count": null,
   "id": "7a19227a-e5c3-4603-81d2-0e401b7b346d",
   "metadata": {},
   "outputs": [],
   "source": []
  }
 ],
 "metadata": {
  "kernelspec": {
   "display_name": "Python 3 (ipykernel)",
   "language": "python",
   "name": "python3"
  },
  "language_info": {
   "codemirror_mode": {
    "name": "ipython",
    "version": 3
   },
   "file_extension": ".py",
   "mimetype": "text/x-python",
   "name": "python",
   "nbconvert_exporter": "python",
   "pygments_lexer": "ipython3",
   "version": "3.10.13"
  }
 },
 "nbformat": 4,
 "nbformat_minor": 5
}
